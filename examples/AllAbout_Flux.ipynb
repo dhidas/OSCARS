{
 "cells": [
  {
   "cell_type": "markdown",
   "metadata": {},
   "source": [
    "# Flux - All About\n",
    "\n",
    "This document gives detailed examples about flux calculations in OSCARS.\n",
    "\n",
    "Any of these can be run in multi-threaded, GPU, or MPI mode.  Results from running on separate nodes on grid/cloud computing can be combined.\n",
    "\n",
    "## Polarization\n",
    "\n",
    "One can select which polarization to compute.  The default is 'all' polarizations.  One may also specify the *polarization* parameter as:\n",
    "* 'linear-horizontal' or 'lh'\n",
    "* 'linear-vertical'   or 'lv'\n",
    "* 'circular-right'    or 'cr'\n",
    "* 'circular-left'     or 'cl'\n",
    "\n",
    "One may alternatively specify the angle of polarization of interest with respect to the horizontal direction as (for instance for 45 degrees):\n",
    "* angle=45. * osr.pi() / 180.\n",
    "\n",
    "Calculating polarization requires a definition of the horizontal and vertical directions.  The defaults for these assume the beam is in the +z direction with +x being the horizontal direction.  It is possible to change these definitions with the parameters *horizontal_direction* and *propogation_direction*"
   ]
  },
  {
   "cell_type": "code",
   "execution_count": null,
   "metadata": {},
   "outputs": [],
   "source": [
    "# matplotlib plots inline\n",
    "%matplotlib inline\n",
    "\n",
    "# Import the OSCARS SR module\n",
    "import oscars.sr\n",
    "\n",
    "# Import OSCARS plots (matplotlib)\n",
    "from oscars.plots_mpl import *"
   ]
  },
  {
   "cell_type": "code",
   "execution_count": null,
   "metadata": {},
   "outputs": [],
   "source": [
    "# Create a new OSCARS object.  Default to 8 threads and always use the GPU if available\n",
    "osr = oscars.sr.sr(nthreads=8, gpu=1)"
   ]
  },
  {
   "cell_type": "code",
   "execution_count": null,
   "metadata": {},
   "outputs": [],
   "source": [
    "# For these examples we will make use of a simple undulator field\n",
    "osr.add_bfield_undulator(bfield=[0, 1, 0], period=[0, 0, 0.042], nperiods=31)\n",
    "\n",
    "# Plot the field\n",
    "plot_bfield(osr)"
   ]
  },
  {
   "cell_type": "markdown",
   "metadata": {},
   "source": [
    "## Beam\n",
    "\n",
    "Add a basic beam somewhat like NSLS2.  Filament beam for simple studies."
   ]
  },
  {
   "cell_type": "code",
   "execution_count": null,
   "metadata": {},
   "outputs": [],
   "source": [
    "# Add a basic electron beam with zero emittance\n",
    "osr.set_particle_beam(energy_GeV=3,\n",
    "                      x0=[0, 0, -1],\n",
    "                      current=0.500)\n",
    "\n",
    "# You MUST set the start and stop time for the calculation\n",
    "osr.set_ctstartstop(0, 2)\n",
    "\n",
    "# Plot trajectory\n",
    "osr.set_new_particle()\n",
    "plot_trajectory_position(osr.calculate_trajectory())"
   ]
  },
  {
   "cell_type": "markdown",
   "metadata": {},
   "source": [
    "## Spectrum\n",
    "\n",
    "Calculate the spectrum so we can pick what energy we want to look at in the 2D flux maps"
   ]
  },
  {
   "cell_type": "code",
   "execution_count": null,
   "metadata": {},
   "outputs": [],
   "source": [
    "# Evenly spaced spectrum in an energy range\n",
    "spectrum = osr.calculate_spectrum(obs=[0, 0, 30], energy_range_eV=[200, 260], npoints=500)\n",
    "plot_spectrum(spectrum)"
   ]
  },
  {
   "cell_type": "markdown",
   "metadata": {},
   "source": [
    "## Flux on Rectangular surface\n",
    "\n",
    "First let's look at a simple flux on a rectangular surface"
   ]
  },
  {
   "cell_type": "code",
   "execution_count": null,
   "metadata": {},
   "outputs": [],
   "source": [
    "# Calculate flux on rectangular surface\n",
    "# Here we essentially create a rectanglular surface in the XY plane, then translate\n",
    "# it 30m downstream\n",
    "flux = osr.calculate_flux_rectangle(plane='XY',\n",
    "                                    energy_eV=235,\n",
    "                                    width=[0.01, 0.01],\n",
    "                                    npoints=[101, 101],\n",
    "                                    translation=[0, 0, 30])\n",
    "plot_flux(flux)"
   ]
  },
  {
   "cell_type": "code",
   "execution_count": null,
   "metadata": {},
   "outputs": [],
   "source": [
    "# Calculate linear horizontal and linear vertical polarizations\n",
    "flux = osr.calculate_flux_rectangle(plane='XY',\n",
    "                                    energy_eV=235,\n",
    "                                    width=[0.01, 0.01],\n",
    "                                    npoints=[101, 101],\n",
    "                                    translation=[0, 0, 30],\n",
    "                                    polarization='lh'\n",
    "                                   )\n",
    "plot_flux(flux)\n",
    "\n",
    "flux = osr.calculate_flux_rectangle(plane='XY',\n",
    "                                    energy_eV=235,\n",
    "                                    width=[0.01, 0.01],\n",
    "                                    npoints=[101, 101],\n",
    "                                    translation=[0, 0, 30],\n",
    "                                    polarization='lv'\n",
    "                                   )\n",
    "plot_flux(flux)"
   ]
  },
  {
   "cell_type": "markdown",
   "metadata": {},
   "source": [
    "## Multi-particle flux\n",
    "\n",
    "### Non-zero emittance beam"
   ]
  },
  {
   "cell_type": "code",
   "execution_count": null,
   "metadata": {
    "collapsed": true
   },
   "outputs": [],
   "source": [
    "# Add a basic electron beam with zero emittance\n",
    "osr.set_particle_beam(type='electron',\n",
    "                      energy_GeV=3,\n",
    "                      x0=[0, 0, -1],\n",
    "                      current=0.500,\n",
    "                      sigma_energy_GeV=0.001*3,\n",
    "                      beta=[1.5, 0.8],\n",
    "                      emittance=[0.9e-9, 0.008e-9])\n",
    "\n",
    "# You MUST set the start and stop time for the calculation\n",
    "osr.set_ctstartstop(0, 2)"
   ]
  },
  {
   "cell_type": "code",
   "execution_count": null,
   "metadata": {
    "collapsed": true
   },
   "outputs": [],
   "source": [
    "# Calculate flux on rectangular surface\n",
    "# Here we can set nparticle equal to the number of desired particles to use\n",
    "flux = osr.calculate_flux_rectangle(plane='XY',\n",
    "                                    energy_eV=235,\n",
    "                                    width=[0.01, 0.01],\n",
    "                                    npoints=[101, 101],\n",
    "                                    translation=[0, 0, 30],\n",
    "                                    nparticles=3)\n",
    "plot_flux(flux)"
   ]
  },
  {
   "cell_type": "code",
   "execution_count": null,
   "metadata": {
    "collapsed": true
   },
   "outputs": [],
   "source": []
  }
 ],
 "metadata": {
  "anaconda-cloud": {},
  "kernelspec": {
   "display_name": "Python 3",
   "language": "python",
   "name": "python3"
  },
  "language_info": {
   "codemirror_mode": {
    "name": "ipython",
    "version": 3
   },
   "file_extension": ".py",
   "mimetype": "text/x-python",
   "name": "python",
   "nbconvert_exporter": "python",
   "pygments_lexer": "ipython3",
   "version": "3.6.1"
  }
 },
 "nbformat": 4,
 "nbformat_minor": 1
}
