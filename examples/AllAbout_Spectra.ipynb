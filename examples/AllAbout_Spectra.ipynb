{
 "cells": [
  {
   "cell_type": "markdown",
   "metadata": {},
   "source": [
    "# Spectra - All About\n",
    "\n",
    "This document gives detailed examples about spectrum calculations in OSCARS.\n",
    "\n",
    "Any of these can be run in multi-threaded, GPU, or MPI mode.  Results from running on separate nodes on grid/cloud computing can be combined.\n",
    "\n",
    "    \n",
    "## What do you need to calculate a spectrum?\n",
    "\n",
    "Specifically, all you need is a trajectory (position and velocity), an observer position, and a set of points (energy) where you are interested in the flux.  Practically in OSCARS this usually means defining a beam, a magnetic field, calculating the trajectory, and calculating the flux for the points of interest.\n",
    "\n",
    "When calling calculate_spectrum() npoints is an optional parameter and will default to a pitch of 1 eV or 100 points (whichever is greater)."
   ]
  },
  {
   "cell_type": "code",
   "execution_count": null,
   "metadata": {},
   "outputs": [],
   "source": [
    "# matplotlib plots inline\n",
    "%matplotlib inline\n",
    "\n",
    "# Import the OSCARS SR module\n",
    "import oscars.sr\n",
    "\n",
    "# Import OSCARS plots (matplotlib)\n",
    "from oscars.plots_mpl import *"
   ]
  },
  {
   "cell_type": "code",
   "execution_count": null,
   "metadata": {},
   "outputs": [],
   "source": [
    "# Create a new OSCARS object.  Default to 8 threads and always use the GPU if available\n",
    "osr = oscars.sr.sr(nthreads=8, gpu=1)"
   ]
  },
  {
   "cell_type": "code",
   "execution_count": null,
   "metadata": {},
   "outputs": [],
   "source": [
    "# For these examples we will make use of a simple undulator field\n",
    "osr.add_bfield_undulator(bfield=[0, 1, 0], period=[0, 0, 0.042], nperiods=31)\n",
    "\n",
    "# Plot the field\n",
    "plot_bfield(osr)"
   ]
  },
  {
   "cell_type": "markdown",
   "metadata": {},
   "source": [
    "## Single particle spectra\n",
    "\n",
    "### Beam\n",
    "Add a basic beam somewhat like NSLS2.  Filament beam for simple studies."
   ]
  },
  {
   "cell_type": "code",
   "execution_count": null,
   "metadata": {},
   "outputs": [],
   "source": [
    "# Add a basic electron beam with zero emittance\n",
    "osr.set_particle_beam(\n",
    "    energy_GeV=3,\n",
    "    x0=[0, 0, -1],\n",
    "    current=0.500\n",
    ")\n",
    "\n",
    "# You MUST set the start and stop time for the calculation\n",
    "osr.set_ctstartstop(0, 2)\n",
    "\n",
    "# Plot trajectory\n",
    "osr.set_new_particle()\n",
    "plot_trajectory_position(osr.calculate_trajectory())"
   ]
  },
  {
   "cell_type": "markdown",
   "metadata": {},
   "source": [
    "### Spectrum - Energy Range\n",
    "\n",
    "Calculate the spectrum in a given energy range with npoints evenly spaced."
   ]
  },
  {
   "cell_type": "code",
   "execution_count": null,
   "metadata": {},
   "outputs": [],
   "source": [
    "# Evenly spaced spectrum in an energy range\n",
    "spectrum = osr.calculate_spectrum(obs=[0, 0, 30], energy_range_eV=[100, 800])\n",
    "plot_spectrum(spectrum)"
   ]
  },
  {
   "cell_type": "code",
   "execution_count": null,
   "metadata": {},
   "outputs": [],
   "source": [
    "# Create a list of energy points you are interested (Skipping a region we are not interested in)\n",
    "my_energy_list = []\n",
    "my_energy_list.extend(list(range(200, 300)))\n",
    "my_energy_list.extend(list(range(650, 750)))\n",
    "\n",
    "# Evenly spaced spectrum in an energy range\n",
    "spectrum = osr.calculate_spectrum(obs=[0, 0, 30], points_eV=my_energy_list)\n",
    "\n",
    "# Here add plt.plot argument to show points (any extra arguments are passed to matplotlib)\n",
    "plot_spectrum(spectrum, marker='.')"
   ]
  },
  {
   "cell_type": "code",
   "execution_count": null,
   "metadata": {},
   "outputs": [],
   "source": [
    "# You can also do the above in the following way by calculating 2 spectra and plotting\n",
    "spectrum0 = osr.calculate_spectrum(obs=[0, 0, 30], points_eV=list(range(200, 300)))\n",
    "spectrum1 = osr.calculate_spectrum(obs=[0, 0, 30], points_eV=list(range(650, 750)))\n",
    "\n",
    "plot_spectra([spectrum0, spectrum1], ['200-300 [eV]', '650-750 [eV]'])"
   ]
  },
  {
   "cell_type": "markdown",
   "metadata": {},
   "source": [
    "## Multi-particle spectra\n",
    "\n",
    "### Non-zero emittance beam"
   ]
  },
  {
   "cell_type": "code",
   "execution_count": null,
   "metadata": {},
   "outputs": [],
   "source": [
    "# Add a basic electron beam with zero emittance\n",
    "osr.set_particle_beam(\n",
    "    energy_GeV=3,\n",
    "    x0=[0, 0, -1],\n",
    "    current=0.500,\n",
    "    sigma_energy_GeV=0.001*3,\n",
    "    beta=[1.5, 0.8],\n",
    "    emittance=[0.9e-9, 0.008e-9]\n",
    ")\n",
    "\n",
    "# You MUST set the start and stop time for the calculation\n",
    "osr.set_ctstartstop(0, 2)"
   ]
  },
  {
   "cell_type": "markdown",
   "metadata": {},
   "source": [
    "### Ideal particle spectrum from non-zero emittance beam\n",
    "\n",
    "If you don't set the ideal particle you will get a randomized particle..."
   ]
  },
  {
   "cell_type": "code",
   "execution_count": null,
   "metadata": {},
   "outputs": [],
   "source": [
    "# Evenly spaced spectrum in an energy range\n",
    "osr.set_new_particle(particle='ideal')\n",
    "spectrum_ideal = osr.calculate_spectrum(obs=[0, 0, 30], energy_range_eV=[100, 800], npoints=701)\n",
    "plot_spectrum(spectrum_ideal)"
   ]
  },
  {
   "cell_type": "markdown",
   "metadata": {},
   "source": [
    "### Multi-particle spectrum from non-zero emittance beam\n",
    "\n",
    "To enable multi-particle mode add to the calculation: nparticles=1234  where 1234 is the number of particles you want to use in the simulation."
   ]
  },
  {
   "cell_type": "code",
   "execution_count": null,
   "metadata": {},
   "outputs": [],
   "source": [
    "# Evenly spaced spectrum in an energy range\n",
    "spectrum_multi = osr.calculate_spectrum(obs=[0, 0, 30], energy_range_eV=[100, 800], npoints=701, nparticles=50)\n",
    "plot_spectrum(spectrum_multi)"
   ]
  },
  {
   "cell_type": "markdown",
   "metadata": {},
   "source": [
    "### Plot spectra together\n",
    "\n",
    "use the 'plot_spectra' function from oscars.plots_mpl"
   ]
  },
  {
   "cell_type": "code",
   "execution_count": null,
   "metadata": {},
   "outputs": [],
   "source": [
    "plot_spectra([spectrum_ideal, spectrum_multi], ['ideal', 'multi'])"
   ]
  },
  {
   "cell_type": "markdown",
   "metadata": {},
   "source": [
    "## Spectrum as a function of position\n",
    "\n",
    "Just for fun, let's say you were interested in the spectrum as a function of the observer position.  Let's list of points scanning from the center outwards in the vertical direction."
   ]
  },
  {
   "cell_type": "code",
   "execution_count": null,
   "metadata": {},
   "outputs": [],
   "source": [
    "# Create list of observation points\n",
    "obs_list = []\n",
    "for y in range(0, 5):\n",
    "    obs_list.append([0, y * 2e-3, 30])\n",
    "\n",
    "# Evenly spaced spectrum in an energy range\n",
    "spectrum_list = []\n",
    "label_list = []\n",
    "for obs in obs_list:\n",
    "    osr.set_new_particle(particle='ideal')\n",
    "    spectrum_list.append(osr.calculate_spectrum(obs=obs, energy_range_eV=[100, 800]))\n",
    "    label_list.append('y=' + str(obs[1]*1000) + ' [mm]')\n",
    "\n",
    "plot_spectra(spectrum_list, label_list)"
   ]
  },
  {
   "cell_type": "markdown",
   "metadata": {},
   "source": [
    "## On Precision\n",
    "\n",
    "The default relative precision is 0.01 (1%) and is controlled by the parameter:\n",
    "* precision=0.01  (default)\n",
    "\n",
    "You may retrieve the relative precision for all points in a calculation by including the parameter:\n",
    "* quantity='precision'\n",
    "\n",
    "Should you not reach the desired precision withing max_level you will receive a warning message.  To increase max_level you have two options:\n",
    "* max_level=25\n",
    "* max_level_extended=(some number above max_level)\n",
    "\n",
    "The maximum max_level is 25 due to typical memor restrictions (because it is faster).  The 'extended' version runs in non-memory mode which allows higher precision at the cost of CPU time.  Only in rare instances will you need this.  You can also retrieve the 'level' of convergence for all points (which will show -1 for non-converged points) with the addition of:\n",
    "* quantity='level'"
   ]
  },
  {
   "cell_type": "code",
   "execution_count": null,
   "metadata": {},
   "outputs": [],
   "source": [
    "# Show the precision reached for each point\n",
    "spectrum = osr.calculate_spectrum(\n",
    "    obs=[0, 0, 30],\n",
    "    energy_range_eV=[100, 800],\n",
    "    quantity='precision'\n",
    ")\n",
    "plot_spectrum(spectrum, title='Precision', ylabel='Precision')\n",
    "\n",
    "# As a test, increase the precision from previous\n",
    "spectrum = osr.calculate_spectrum(\n",
    "    obs=[0, 0, 30],\n",
    "    energy_range_eV=[100, 800],\n",
    "    precision=0.001,\n",
    "    quantity='precision'\n",
    ")\n",
    "plot_spectrum(spectrum, title='Precision', ylabel='Precision')"
   ]
  },
  {
   "cell_type": "code",
   "execution_count": null,
   "metadata": {},
   "outputs": [],
   "source": [
    "# Show the 'level' reached for each point\n",
    "spectrum = osr.calculate_spectrum(obs=[0, 0, 30], energy_range_eV=[100, 800], quantity='level')\n",
    "plot_spectrum(spectrum, ylabel='level')"
   ]
  }
 ],
 "metadata": {
  "anaconda-cloud": {},
  "kernelspec": {
   "display_name": "Python 3",
   "language": "python",
   "name": "python3"
  },
  "language_info": {
   "codemirror_mode": {
    "name": "ipython",
    "version": 3
   },
   "file_extension": ".py",
   "mimetype": "text/x-python",
   "name": "python",
   "nbconvert_exporter": "python",
   "pygments_lexer": "ipython3",
   "version": "3.6.1"
  }
 },
 "nbformat": 4,
 "nbformat_minor": 1
}
