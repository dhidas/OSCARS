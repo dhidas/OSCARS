{
 "cells": [
  {
   "cell_type": "markdown",
   "metadata": {},
   "source": [
    "# Particle Beams\n",
    "\n",
    "This example describes all of the major capabilities of particle beams in OSCARS.  There are pre-defined particle types and the user is free to describe any other particle type they wish.  Non-zero beam widths can be defined using th emittance, beta functions, and lattice reference (point at which the beta functions are defined).  One can also define multiple particle beams in one OSCARS object and give weights to each.\n",
    "\n",
    "Patricle beams can as well be defined, like other OSCARS objects, in any direction.  Although examples are often given where $+\\hat z$ is the beam direction (mostly to align with accelerator nomenclature), there is no preferred direction in OSCARS.\n",
    "\n",
    "The elements which you must define for a beam at a minimum are:\n",
    "* type  (one of the predefined types, or 'custom')\n",
    "* name  (any unique name you like)\n",
    "* energy_GeV  (the energy in GeV)\n",
    "* x0  (position where initial conditions are given)\n",
    "* d0  (direction of beam at initial position)\n",
    "* current  (the current in [A])\n",
    "\n",
    "For a non-zero emittance beam you must additionally define the following (the beam shape is taken to be gaussian, though other distributions are possible):\n",
    "* sigma_energy_GeV  (width in energy spread in [GeV])\n",
    "* emittance  (the beam emittance in [m.rad] as [h, v])\n",
    "* beta  (the beta function in [m] as [h, v])\n",
    "* lattice_reference  (the reference point at which beta is defined)\n",
    "* horizontal_direction  (the horizontal direction of the beam)\n",
    "\n",
    "For a particle beam you can additionally define the following:\n",
    "* rotations  (rotate the beam about x, then y, then z given as [$\\theta_x, \\theta_y, \\theta_z$])\n",
    "* translation  (translate the beam in x, y, z given as [x, y, z])\n",
    "* t0  (time at the position x0 defined above, default is 0)\n",
    "* weight  (for randome particle generation with multiple beams, default is 1)\n",
    "\n",
    "Custom:  If you set type='custom' you will need to also define the following:\n",
    "* mass (in [kg])\n",
    "* charge (in [C])"
   ]
  },
  {
   "cell_type": "code",
   "execution_count": null,
   "metadata": {
    "collapsed": false
   },
   "outputs": [],
   "source": [
    "# matplotlib plots inline\n",
    "%matplotlib inline\n",
    "\n",
    "# Import the OSCARS SR module\n",
    "import oscars.sr\n",
    "\n",
    "# Import OSCARS plots (matplotlib)\n",
    "from oscars.plots_mpl import *"
   ]
  },
  {
   "cell_type": "code",
   "execution_count": null,
   "metadata": {
    "collapsed": false
   },
   "outputs": [],
   "source": [
    "# Create an OSCARS SR object\n",
    "osr = oscars.sr.sr()\n",
    "\n",
    "# For these examples we will make use of a simple undulator field\n",
    "osr.add_bfield_undulator(bfield=[0, 1, 0], period=[0, 0, 0.100], nperiods=5)\n",
    "\n",
    "plot_bfield(osr)"
   ]
  },
  {
   "cell_type": "markdown",
   "metadata": {},
   "source": [
    "## Basic  beams /  Particles\n",
    "\n",
    "These are basic beams with zero emittance, one electron (NSLSII energy) and one proton (LHC energy)"
   ]
  },
  {
   "cell_type": "code",
   "execution_count": null,
   "metadata": {
    "collapsed": false
   },
   "outputs": [],
   "source": [
    "# Add a basic electron beam with zero emittance\n",
    "osr.set_particle_beam(type='electron', name='beam_0', energy_GeV=3, x0=[0, 0, -1], d0=[0, 0, 1], current=0.500)\n",
    "\n",
    "# You MUST set the start and stop time for the calculation\n",
    "osr.set_ctstartstop(0, 2)\n",
    "\n",
    "# Plot trajectory of beam\n",
    "plot_trajectory_position(osr.calculate_trajectory())"
   ]
  },
  {
   "cell_type": "code",
   "execution_count": null,
   "metadata": {
    "collapsed": false
   },
   "outputs": [],
   "source": [
    "# Add a basic proton beam with zero emittance\n",
    "osr.set_particle_beam(type='proton', name='beam_1', energy_GeV=13, x0=[0, 0, -1], d0=[0, 0, 1], current=0.500)\n",
    "\n",
    "# You MUST set the start and stop time for the calculation\n",
    "osr.set_ctstartstop(0, 2)\n",
    "\n",
    "# Plot trajectory of beam\n",
    "plot_trajectory_position(osr.calculate_trajectory())"
   ]
  },
  {
   "cell_type": "markdown",
   "metadata": {},
   "source": [
    "## Multiple beams\n",
    "\n",
    "This examples defined multiple beams in the same object, then plots the trajectory for two random particles selected from these beams.\n",
    "\n",
    "Instead of using set_particle_beam we will use add_particle_beam (which is really the same thing, but set_particle_beam issues a clear_particle_beams() internally)"
   ]
  },
  {
   "cell_type": "code",
   "execution_count": null,
   "metadata": {
    "collapsed": false
   },
   "outputs": [],
   "source": [
    "# Add basic electron beams with zero emittance\n",
    "osr.clear_particle_beams()\n",
    "osr.add_particle_beam(type='electron', name='beam_0', energy_GeV=3,  x0=[0, 0, -1], d0=[0, 0, 1], current=0.500)\n",
    "osr.add_particle_beam(type='positron', name='beam_1', energy_GeV=3,  x0=[0, 0, -1], d0=[0, 0, 1], current=0.500)\n",
    "osr.add_particle_beam(type='proton',   name='beam_2', energy_GeV=13, x0=[0, 0, -1], d0=[0, 0, 1], current=0.500)\n",
    "osr.add_particle_beam(type='muon',     name='beam_3', energy_GeV=2,  x0=[0, 0, -1], d0=[0, 0, 1], current=0.500)\n",
    "osr.add_particle_beam(type='pi+',      name='beam_4', energy_GeV=1,  x0=[0, 0, -1], d0=[0, 0, 1], current=0.500)\n",
    "\n",
    "# You MUST set the start and stop time for the calculation\n",
    "osr.set_ctstartstop(0, 2)\n",
    "\n",
    "# Plot trajectory of beam\n",
    "plot_trajectory_position(osr.calculate_trajectory())\n",
    "osr.set_new_particle()\n",
    "plot_trajectory_position(osr.calculate_trajectory())\n",
    "osr.set_new_particle()\n",
    "plot_trajectory_position(osr.calculate_trajectory())"
   ]
  },
  {
   "cell_type": "markdown",
   "metadata": {},
   "source": [
    "# Beam with non-zero emittance\n",
    "\n",
    "Below is an example of a beam with non-zero memittance.  We use the emittance and the beta function.  You must give the reference point for the beta function definition."
   ]
  },
  {
   "cell_type": "code",
   "execution_count": null,
   "metadata": {
    "collapsed": false
   },
   "outputs": [],
   "source": [
    "# Add a basic electron beam with zero emittance\n",
    "osr.set_particle_beam(type='electron',\n",
    "                      name='beam_0',\n",
    "                      energy_GeV=3,\n",
    "                      x0=[0, 0, -1],\n",
    "                      d0=[0, 0, 1],\n",
    "                      current=0.500,\n",
    "                      sigma_energy_GeV=0.001*3,\n",
    "                      beta=[1.5, 0.8],\n",
    "                      emittance=[0.9e-9, 0.008e-9],\n",
    "                      horizontal_direction=[1, 0, 0],\n",
    "                      lattice_reference=[0, 0, 0])\n",
    "\n",
    "# You MUST set the start and stop time for the calculation\n",
    "osr.set_ctstartstop(0, 2)\n",
    "\n",
    "# Plot trajectory of beam\n",
    "osr.set_new_particle()\n",
    "plot_trajectory_position(osr.calculate_trajectory())"
   ]
  },
  {
   "cell_type": "code",
   "execution_count": null,
   "metadata": {
    "collapsed": false
   },
   "outputs": [],
   "source": [
    "# Let's plot the distribution of particles at the initial position 'position'\n",
    "energy = []\n",
    "x = []\n",
    "y = []\n",
    "bx = []\n",
    "by = []\n",
    "for i in range(5000):\n",
    "    osr.set_new_particle()\n",
    "    energy.append(osr.get_particle_e0())\n",
    "    position = osr.get_particle_x0()\n",
    "    beta = osr.get_particle_beta0()\n",
    "\n",
    "    x.append(position[0])\n",
    "    y.append(position[1])\n",
    "\n",
    "    bx.append(beta[0])\n",
    "    by.append(beta[1])\n",
    "    \n",
    "plt.figure(1, figsize=[15, 3])\n",
    "\n",
    "plt.subplot(131)\n",
    "plt.scatter(x, y)\n",
    "plt.xlim(-0.0005, 0.0005)\n",
    "plt.ylim(-0.00005, 0.00005)\n",
    "plt.xlabel('x0 [m]')\n",
    "plt.ylabel('y0 [m]')\n",
    "plt.ticklabel_format(style='sci', axis='x', scilimits=(0,0))\n",
    "plt.ticklabel_format(style='sci', axis='y', scilimits=(0,0))\n",
    "\n",
    "plt.subplot(132)\n",
    "plt.scatter(bx, by)\n",
    "plt.xlim(-0.0002, 0.0002)\n",
    "plt.ylim(-0.00002, 0.00002)\n",
    "plt.xlabel('x0 [m]')\n",
    "plt.ylabel('y0 [m]')\n",
    "plt.ticklabel_format(style='sci', axis='x', scilimits=(0,0))\n",
    "plt.ticklabel_format(style='sci', axis='y', scilimits=(0,0))\n",
    "\n",
    "plt.subplot(133)\n",
    "plt.hist(energy)\n",
    "plt.xlabel('Energy [GeV]')\n",
    "plt.ticklabel_format(style='sci', axis='x', scilimits=(0,0))\n",
    "plt.ticklabel_format(style='sci', axis='y', scilimits=(0,0))\n",
    "\n",
    "plt.show()"
   ]
  },
  {
   "cell_type": "markdown",
   "metadata": {},
   "source": [
    "## Multiple beams with non-zero emittance\n",
    "\n",
    "A simple example of 2 beams with different beam parameters in the same object"
   ]
  },
  {
   "cell_type": "code",
   "execution_count": null,
   "metadata": {
    "collapsed": false
   },
   "outputs": [],
   "source": [
    "# Add basic electron beams with zero emittance\n",
    "osr.clear_particle_beams()\n",
    "osr.add_particle_beam(type='electron',\n",
    "                      name='beam_0',\n",
    "                      energy_GeV=3,\n",
    "                      x0=[0, 0, -1],\n",
    "                      d0=[0, 0, 1],\n",
    "                      current=0.500,\n",
    "                      sigma_energy_GeV=0.001*3,\n",
    "                      beta=[1.5, 0.8],\n",
    "                      emittance=[0.9e-9, 0.008e-9],\n",
    "                      horizontal_direction=[1, 0, 0],\n",
    "                      lattice_reference=[0, 0, 0],\n",
    "                      weight=0.7)\n",
    "\n",
    "osr.add_particle_beam(type='electron',\n",
    "                      name='beam_1',\n",
    "                      energy_GeV=3.02,\n",
    "                      x0=[0, 0.000035, -1],\n",
    "                      d0=[0, 0, 1],\n",
    "                      current=0.500,\n",
    "                      sigma_energy_GeV=0.001*3,\n",
    "                      beta=[1.5, 0.8],\n",
    "                      emittance=[0.9e-9, 0.008e-9],\n",
    "                      horizontal_direction=[1, 0, 0],\n",
    "                      lattice_reference=[0, 0, 0],\n",
    "                      weight=0.3)\n",
    "\n",
    "\n",
    "# You MUST set the start and stop time for the calculation\n",
    "osr.set_ctstartstop(0, 2)\n",
    "\n",
    "# And plot the results\n",
    "energy = []\n",
    "x = []\n",
    "y = []\n",
    "for i in range(5000):\n",
    "    osr.set_new_particle()\n",
    "    energy.append(osr.get_particle_e0())\n",
    "    position = osr.get_particle_x0()\n",
    "\n",
    "    x.append(position[0])\n",
    "    y.append(position[1])\n",
    "    \n",
    "plt.figure(1, figsize=[10, 3])\n",
    "plt.subplot(121)\n",
    "plt.scatter(x, y)\n",
    "plt.xlim(-0.0005, 0.0005)\n",
    "plt.ylim(-0.00005, 0.00005)\n",
    "plt.xlabel('x0 [m]')\n",
    "plt.ylabel('y0 [m]')\n",
    "\n",
    "plt.subplot(122)\n",
    "plt.hist(energy)\n",
    "plt.xlabel('Energy [GeV]')\n",
    "plt.show()"
   ]
  },
  {
   "cell_type": "markdown",
   "metadata": {},
   "source": [
    "## Custom Particles\n",
    "\n",
    "This is an example of a custom particle in OSCARS.  All that additionally needs definition are the charge and mass"
   ]
  },
  {
   "cell_type": "code",
   "execution_count": null,
   "metadata": {
    "collapsed": false
   },
   "outputs": [],
   "source": [
    "# Add a custom beam with zero emittance.\n",
    "# This is for a particle with twice the chargs as the electron, but the same mass\n",
    "osr.set_particle_beam(type='custom',\n",
    "                      name='beam_1',\n",
    "                      charge=-2*osr.qe(),\n",
    "                      mass=osr.me(),\n",
    "                      energy_GeV=3,\n",
    "                      x0=[0, 0, -1],\n",
    "                      d0=[0, 0, 1],\n",
    "                      current=0.500)\n",
    "\n",
    "# You MUST set the start and stop time for the calculation\n",
    "osr.set_ctstartstop(0, 2)\n",
    "\n",
    "# Plot trajectory of beam\n",
    "plot_trajectory_position(osr.calculate_trajectory())"
   ]
  }
 ],
 "metadata": {
  "anaconda-cloud": {},
  "kernelspec": {
   "display_name": "Python [conda env:py3.5]",
   "language": "python",
   "name": "conda-env-py3.5-py"
  },
  "language_info": {
   "codemirror_mode": {
    "name": "ipython",
    "version": 3
   },
   "file_extension": ".py",
   "mimetype": "text/x-python",
   "name": "python",
   "nbconvert_exporter": "python",
   "pygments_lexer": "ipython3",
   "version": "3.5.2"
  }
 },
 "nbformat": 4,
 "nbformat_minor": 0
}
