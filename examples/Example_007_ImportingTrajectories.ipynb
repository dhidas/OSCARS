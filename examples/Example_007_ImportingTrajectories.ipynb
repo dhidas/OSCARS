{
 "cells": [
  {
   "cell_type": "markdown",
   "metadata": {},
   "source": [
    "# Example 007: Importing Trajectories\n",
    "\n",
    "It is possible to import an externally calculated trajectory to oscars.sr.  The trajectory may be input in the OSCARS trajectory format directly from python or it can be input from a text file with user specified input format.  For inputting from a file the minimum required is time and position in at least 1 spatial dimension.\n",
    "\n",
    "Defining a beam is required for most calculations so that OSCARS knows the charge and mass of the particle for the input trajectory.  Note that ctstart and ctstop are not needed.  Calculations will be based on the input trajectry time.\n",
    "\n",
    "This example will serve as a guide for inputting trajectories of various types.\n",
    "\n",
    "If only the position is given the first and second derivatives are calculated from the derivative coefficients of a cubic spline.  Higher order derivatives are less accurate and it is up to the user to dertermine if this is sufficient for the purpose."
   ]
  },
  {
   "cell_type": "code",
   "execution_count": null,
   "metadata": {},
   "outputs": [],
   "source": [
    "# Inline plots\n",
    "%matplotlib inline\n",
    "\n",
    "# Import oscars modules and plotting tools\n",
    "import oscars.sr\n",
    "from oscars.plots_mpl import *\n",
    "\n",
    "# Other python imports\n",
    "import numpy as np"
   ]
  },
  {
   "cell_type": "code",
   "execution_count": null,
   "metadata": {},
   "outputs": [],
   "source": [
    "# Create an oscars.sr object for calculations (use the GPU if you can!)\n",
    "osr = oscars.sr.sr(nthreads=10, gpu=1)"
   ]
  },
  {
   "cell_type": "markdown",
   "metadata": {},
   "source": [
    "## Import Trajectory as a Python List\n",
    "\n",
    "The trajectory must be in the OSCARS trajectory format:\n",
    "* [[time, [x, y, z], [bx, by, bz], [bpx, bpy, bpz]], ...]\n",
    "where b refers to the relativistic beta (velicoty divided by speed of light) and bp is beta' or acceleration divided by the speed of light."
   ]
  },
  {
   "cell_type": "code",
   "execution_count": null,
   "metadata": {},
   "outputs": [],
   "source": [
    "# Importation of a python list trajectory.  This is just a straight trajectory.\n",
    "beta = 0.9\n",
    "my_trajectory = [[t, [0, 0, t*beta*osr.c()], [0, 0, beta], [0, 0, 0]] for t in np.linspace(0, 1e-7, 100)]\n",
    "osr.set_trajectory(trajectory=my_trajectory)\n",
    "\n",
    "# Plot the trajectory\n",
    "plot_trajectory_position(osr.get_trajectory())"
   ]
  },
  {
   "cell_type": "code",
   "execution_count": null,
   "metadata": {},
   "outputs": [],
   "source": [
    "# It is possible to let OSCARS calculate the beta and beta' terms, just leave them out\n",
    "# of the trajectory\n",
    "beta = 0.9\n",
    "my_trajectory = [[t, [1e-6 * np.sin(t*beta*osr.c()), 0, t*beta*osr.c()]] for t in np.linspace(0, 1e-7, 100)]\n",
    "osr.set_trajectory(trajectory=my_trajectory)\n",
    "\n",
    "# Plot the trajectory\n",
    "plot_trajectory_position(osr.get_trajectory())\n",
    "plot_trajectory_velocity(osr.get_trajectory())"
   ]
  },
  {
   "cell_type": "markdown",
   "metadata": {},
   "source": [
    "## Importing Data: Text File\n",
    "\n",
    "Data can be imported from a text file in column format.  These must be spece delimited columns.  You can specify the file format with the 'iformat' parameter.  The default format for this is 'T X Y Z BX BY BZ BPX BPY BPZ'.  At a minimum T and one of (X, Y, Z) must be specified.  '*' in iformat will ignore a column.\n",
    "\n",
    "Below we first create some trajectory in the default format, then read it in."
   ]
  },
  {
   "cell_type": "code",
   "execution_count": null,
   "metadata": {
    "scrolled": false
   },
   "outputs": [],
   "source": [
    "# Create an EPU trajectory and save it to a file\n",
    "osr.set_particle_beam(beam='NSLSII', x0=[0, 0, -1], ctstartstop=[0, 2])\n",
    "osr.clear_bfields()\n",
    "osr.add_bfield_undulator(bfield=[0, 1, 0], period=[0, 0, 0.042], nperiods=31, phase=-0.25*osr.pi())\n",
    "osr.add_bfield_undulator(bfield=[1, 0, 0], period=[0, 0, 0.042], nperiods=31, phase=+0.25*osr.pi())\n",
    "\n",
    "t = osr.calculate_trajectory(ofile='Example_007_Trajectory1.txt')"
   ]
  },
  {
   "cell_type": "markdown",
   "metadata": {},
   "source": [
    "Now that the trajectory has been created we can read it in using the 'ifile' argument"
   ]
  },
  {
   "cell_type": "code",
   "execution_count": null,
   "metadata": {
    "scrolled": false
   },
   "outputs": [],
   "source": [
    "# Read trajectory in default format\n",
    "osr.set_trajectory(ifile='Example_007_Trajectory1.txt')\n",
    "\n",
    "# Get and plot the trajectory\n",
    "t = osr.get_trajectory()\n",
    "plot_trajectory_position(t)\n",
    "plot_trajectory_velocity(t)"
   ]
  },
  {
   "cell_type": "markdown",
   "metadata": {},
   "source": [
    "If we only ask for the time and space components, OSCARS will calculate the beta and beta' terms"
   ]
  },
  {
   "cell_type": "code",
   "execution_count": null,
   "metadata": {},
   "outputs": [],
   "source": [
    "# Read trajectory in default format\n",
    "osr.set_trajectory(ifile='Example_007_Trajectory1.txt', iformat='T X Y Z * * * * * *')\n",
    "\n",
    "# Get and plot the trajectory\n",
    "t = osr.get_trajectory()\n",
    "plot_trajectory_position(t)\n",
    "plot_trajectory_velocity(t)"
   ]
  },
  {
   "cell_type": "markdown",
   "metadata": {},
   "source": [
    "One can ignore columns in the input format using '*'.  This is given as an example of how to ignore a column of data only and it is not recommended to ignore non-zero trajectory components since they are used in SR calculations.  Note that in the example below beta and beta' will be technically incorrect"
   ]
  },
  {
   "cell_type": "code",
   "execution_count": null,
   "metadata": {},
   "outputs": [],
   "source": [
    "# Read trajectory in default format\n",
    "osr.set_trajectory(ifile='Example_007_Trajectory1.txt', iformat='T X * Z')\n",
    "\n",
    "# Get and plot the trajectory\n",
    "t = osr.get_trajectory()\n",
    "plot_trajectory_position(t)\n",
    "plot_trajectory_velocity(t)"
   ]
  },
  {
   "cell_type": "markdown",
   "metadata": {},
   "source": [
    "## Importing Data: Binary File\n",
    "\n",
    "Data can be imported from a binary file.  Here the iformat argument is only needed for non-oscars binary files.  It follows the same convention as the text file iformat.  The default format for this is 'T X Y Z BX BY BZ BPX BPY BPZ'.  For an OSCARS generated binary file one should NOT specify iformat because the format is described within the binary file itself.\n",
    "\n",
    "Below we first create some trajectory in the default format, then read it in."
   ]
  },
  {
   "cell_type": "code",
   "execution_count": null,
   "metadata": {},
   "outputs": [],
   "source": [
    "# Create an EPU trajectory and save it to a file\n",
    "osr.set_particle_beam(beam='NSLSII', x0=[0, 0, -1], ctstartstop=[0, 2])\n",
    "osr.clear_bfields()\n",
    "osr.add_bfield_undulator(bfield=[0, 1, 0], period=[0, 0, 0.042], nperiods=31, phase=-0.25*osr.pi())\n",
    "osr.add_bfield_undulator(bfield=[1, 0, 0], period=[0, 0, 0.042], nperiods=31, phase=+0.25*osr.pi())\n",
    "\n",
    "t = osr.calculate_trajectory(bofile='Example_007_Trajectory1.dat')"
   ]
  },
  {
   "cell_type": "code",
   "execution_count": null,
   "metadata": {},
   "outputs": [],
   "source": [
    "# Read trajectory in default format\n",
    "osr.set_trajectory(bifile='Example_007_Trajectory1.dat')\n",
    "\n",
    "# Get and plot the trajectory\n",
    "t = osr.get_trajectory()\n",
    "plot_trajectory_position(t)\n",
    "plot_trajectory_velocity(t)"
   ]
  }
 ],
 "metadata": {
  "kernelspec": {
   "display_name": "Python 3",
   "language": "python",
   "name": "python3"
  },
  "language_info": {
   "codemirror_mode": {
    "name": "ipython",
    "version": 3
   },
   "file_extension": ".py",
   "mimetype": "text/x-python",
   "name": "python",
   "nbconvert_exporter": "python",
   "pygments_lexer": "ipython3",
   "version": "3.6.1"
  }
 },
 "nbformat": 4,
 "nbformat_minor": 2
}
