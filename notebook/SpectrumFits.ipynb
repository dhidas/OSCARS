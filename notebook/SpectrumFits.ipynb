{
 "cells": [
  {
   "cell_type": "code",
   "execution_count": 1,
   "metadata": {
    "scrolled": true
   },
   "outputs": [
    {
     "name": "stdout",
     "output_type": "stream",
     "text": [
      "OSCARS v2.1.0.dev2 - Open Source Code for Advanced Radiation Simulation\n",
      "Brookhaven National Laboratory, Upton NY, USA\n",
      "http://oscars.bnl.gov\n",
      "oscars@bnl.gov\n"
     ]
    }
   ],
   "source": [
    "%matplotlib inline\n",
    "\n",
    "import oscars.sr\n",
    "from oscars.plots_mpl import *\n",
    "from oscars.util import *\n",
    "from oscars.fit import *\n",
    "\n",
    "import numpy as np\n",
    "from glob import glob"
   ]
  },
  {
   "cell_type": "code",
   "execution_count": 2,
   "metadata": {},
   "outputs": [
    {
     "name": "stderr",
     "output_type": "stream",
     "text": [
      "GPU is not available: Setting gpu global setting to 0.\n"
     ]
    }
   ],
   "source": [
    "osr = oscars.sr.sr(gpu=1, nthreads=8)"
   ]
  },
  {
   "cell_type": "code",
   "execution_count": 3,
   "metadata": {},
   "outputs": [],
   "source": [
    "osr.set_particle_beam(beam='NSLSII', x0=[0, 0, -1])\n",
    "osr.set_ctstartstop(0, 2)"
   ]
  },
  {
   "cell_type": "code",
   "execution_count": 4,
   "metadata": {},
   "outputs": [],
   "source": [
    "# For reading and interpolating a list of files\n",
    "file_list = read_file_list('/home/alex/Workspace/OSCARS/notebook/NSLSII-MM-Data/LIX/file_list.txt')"
   ]
  },
  {
   "cell_type": "code",
   "execution_count": 5,
   "metadata": {},
   "outputs": [],
   "source": [
    "gaps = np.arange(11.5, 20, 0.5).tolist() + np.arange(20., 40., 1.).tolist() + np.arange(40., 105., 5.).tolist()"
   ]
  },
  {
   "cell_type": "code",
   "execution_count": 6,
   "metadata": {},
   "outputs": [
    {
     "name": "stdout",
     "output_type": "stream",
     "text": [
      "ngaps: 50\n"
     ]
    }
   ],
   "source": [
    "print('ngaps:', len(gaps))"
   ]
  },
  {
   "cell_type": "code",
   "execution_count": 7,
   "metadata": {
    "scrolled": true
   },
   "outputs": [
    {
     "name": "stdout",
     "output_type": "stream",
     "text": [
      "gap 11.5\n",
      "gap 12.0\n",
      "gap 12.5\n",
      "gap 13.0\n",
      "gap 13.5\n",
      "gap 14.0\n",
      "gap 14.5\n",
      "gap 15.0\n",
      "gap 15.5\n",
      "gap 16.0\n",
      "gap 16.5\n",
      "gap 17.0\n",
      "gap 17.5\n",
      "gap 18.0\n",
      "gap 18.5\n",
      "gap 19.0\n",
      "gap 19.5\n",
      "gap 20.0\n",
      "gap 21.0\n",
      "gap 22.0\n",
      "gap 23.0\n",
      "gap 24.0\n",
      "gap 25.0\n",
      "gap 26.0\n",
      "gap 27.0\n",
      "gap 28.0\n",
      "gap 29.0\n",
      "gap 30.0\n",
      "gap 31.0\n",
      "gap 32.0\n",
      "gap 33.0\n",
      "gap 34.0\n",
      "gap 35.0\n",
      "gap 36.0\n",
      "gap 37.0\n",
      "gap 38.0\n",
      "gap 39.0\n",
      "gap 40.0\n",
      "gap 45.0\n",
      "gap 50.0\n",
      "gap 55.0\n",
      "gap 60.0\n",
      "gap 65.0\n",
      "gap 70.0\n",
      "gap 75.0\n",
      "gap 80.0\n",
      "gap 85.0\n",
      "gap 90.0\n",
      "gap 95.0\n",
      "gap 100.0\n"
     ]
    }
   ],
   "source": [
    "for gap in gaps:\n",
    "    print('gap', gap)\n",
    "    osr.clear_bfields()\n",
    "    osr.add_bfield_interpolated(mapping=file_list,\n",
    "                                iformat='OSCARS1D Z Bx By Bz',\n",
    "                                parameter=gap,\n",
    "                                scale=[0.001],\n",
    "                                name='U42'\n",
    "                               )\n",
    "    osr.calculate_spectrum(obs=[0, 0, 30],\n",
    "                           energy_range_eV=[10, 10000],\n",
    "                           ofile='spectra_spectrum_se_u42_gap_' + str(gap).zfill(5) + '.dat'\n",
    "                           )"
   ]
  },
  {
   "cell_type": "code",
   "execution_count": 8,
   "metadata": {},
   "outputs": [],
   "source": [
    "files = glob('spectra/spectrum_se_u42_gap_*.dat')"
   ]
  },
  {
   "cell_type": "code",
   "execution_count": 18,
   "metadata": {},
   "outputs": [],
   "source": [
    "def find_spacing (spectrum, maxh=8):\n",
    "    print('hello')\n",
    "    try:\n",
    "        fit_1 = fit_spectrum_gaussian(spectrum, n=1, quiet=True)[0][1]\n",
    "    except ValueError:\n",
    "        print('failed 1 fit')\n",
    "        Y = [s[1] for s in spectrum]\n",
    "        X = [s[0] for s in spectrum]\n",
    "        ind = Y.index(max(Y))\n",
    "        return X[ind]\n",
    "\n",
    "    if maxh == 1:\n",
    "        print('return fit_1')\n",
    "        return fit_1\n",
    "    \n",
    "    try:\n",
    "        f2 = fit_spectrum_gaussian(spectrum, n=2, quiet=True)[0][1]\n",
    "    except ValueError:\n",
    "        print('return fit_1 failed 2')\n",
    "        return fit_1\n",
    "\n",
    "    if maxh == 2:\n",
    "        return f2\n",
    "\n",
    "\n",
    "    try:\n",
    "        last_spacing=0\n",
    "        for i in range(3, maxh):\n",
    "            points = [fit[1] for fit in fit_spectrum_gaussian(spectrum, n=i, quiet=True)]\n",
    "\n",
    "            diffs=[]\n",
    "            for j in range(1, len(points)):\n",
    "                diffs.append(points[j] - points[j-1])\n",
    "                spacing = np.mean(diffs)\n",
    "                if abs(last_spacing - spacing)/spacing < 0.01:\n",
    "                    print('found spacing!')\n",
    "                    return spacing/2\n",
    "                last_spacing = spacing\n",
    "    except ValueError:\n",
    "        print('failed all fit')\n",
    "\n",
    "    return fit_1\n",
    "\n",
    "\n",
    "def find_first_harmonic (spectrum, xguess, xwidth=50):\n",
    "    print('xguess', xguess)\n",
    "    return fit_spectrum_gaussian(spectrum, xranges=[[xguess-xwidth, xguess+xwidth]], quiet=True)\n",
    "\n",
    "def find_odd_harmonics (spectrum, first, xwidth=50, figsize=None):\n",
    "    \n",
    "        \n",
    "    xranges=[]\n",
    "    for x in np.arange(first[0][1], spectrum[-1][0], 2*first[0][1], dtype=float):\n",
    "        xranges.append([x - xwidth, x + xwidth])\n",
    "        #fits.append( fit_spectrum_gaussian(spectrum, xranges=[[x - xwidth, x + xwidth]]) )\n",
    "    print('nxranges', len(xranges))\n",
    "    fits = fit_spectrum_gaussian(spectrum, xranges=xranges, figsize=figsize)\n",
    "    return fits"
   ]
  },
  {
   "cell_type": "code",
   "execution_count": 19,
   "metadata": {},
   "outputs": [
    {
     "data": {
      "text/plain": [
       "[]"
      ]
     },
     "execution_count": 19,
     "metadata": {},
     "output_type": "execute_result"
    }
   ],
   "source": [
    "X"
   ]
  },
  {
   "cell_type": "code",
   "execution_count": 14,
   "metadata": {},
   "outputs": [],
   "source": [
    "fits=[]\n",
    "gaps=[]\n",
    "for file in files:\n",
    "    gap = float(file.split('_')[-1][0:5])\n",
    "    print('gap', gap)\n",
    "    spectrum = osr.average_spectra(ifiles=[file])\n",
    "    \n",
    "    if gap > 78:\n",
    "        continue\n",
    "        \n",
    "    hmax = 8\n",
    "    if gap > 45.:\n",
    "        hmax = 1\n",
    "        \n",
    "    spacing = find_spacing(spectrum, hmax)\n",
    "    first = find_first_harmonic(spectrum, spacing)\n",
    "\n",
    "    fit = find_odd_harmonics(spectrum, first, figsize=[12, 3])\n",
    "    fits.append(fit)\n",
    "    gaps.append(gap)"
   ]
  },
  {
   "cell_type": "code",
   "execution_count": 15,
   "metadata": {},
   "outputs": [
    {
     "data": {
      "image/png": "[encoded data removed]",
      "text/plain": [
       "<matplotlib.figure.Figure at 0x7f0e9e5e8b70>"
      ]
     },
     "metadata": {},
     "output_type": "display_data"
    }
   ],
   "source": [
    "plt.figure(1, figsize=[12, 8])\n",
    "\n",
    "#for i in range(len(fits[0])):\n",
    "for i in range(7):\n",
    "\n",
    "    X=[]\n",
    "    Y=[]\n",
    "    for j in range(len(fits)):\n",
    "        fit = fits[j]\n",
    "        if i < len(fit):\n",
    "            X.append(gaps[j])\n",
    "            Y.append(fit[i][1])\n",
    "    plt.plot(Y, X, '.-', label='h'+str(1+2*i))\n",
    "\n",
    "plt.title('SST U42 - Single Electron (Preliminary)')\n",
    "plt.xlabel('Photon Energy [eV]')\n",
    "plt.ylabel('Gap [mm]')\n",
    "\n",
    "plt.legend(title='Harmonics')\n",
    "\n",
    "plt.grid()\n",
    "\n",
    "plt.show()"
   ]
  },
  {
   "cell_type": "code",
   "execution_count": 21,
   "metadata": {},
   "outputs": [
    {
     "data": {
      "text/plain": [
       "[]"
      ]
     },
     "execution_count": 21,
     "metadata": {},
     "output_type": "execute_result"
    }
   ],
   "source": [
    "gaps"
   ]
  },
  {
   "cell_type": "code",
   "execution_count": 23,
   "metadata": {},
   "outputs": [
    {
     "data": {
      "text/plain": [
       "[]"
      ]
     },
     "execution_count": 23,
     "metadata": {},
     "output_type": "execute_result"
    }
   ],
   "source": [
    "fits"
   ]
  },
  {
   "cell_type": "code",
   "execution_count": 16,
   "metadata": {},
   "outputs": [
    {
     "name": "stderr",
     "output_type": "stream",
     "text": [
      "/home/alex/py-venv/lib/python3.5/site-packages/matplotlib/axes/_base.py:3239: UserWarning: Attempting to set identical bottom==top results\n",
      "in singular transformations; automatically expanding.\n",
      "bottom=1.0, top=1.0\n",
      "  'bottom=%s, top=%s') % (bottom, top))\n"
     ]
    },
    {
     "data": {
      "image/png": "[encoded data removed]",
      "text/plain": [
       "<matplotlib.figure.Figure at 0x7f0e9e5ef550>"
      ]
     },
     "metadata": {},
     "output_type": "display_data"
    }
   ],
   "source": [
    "plt.figure(1, figsize=[12, 8])\n",
    "\n",
    "#for i in range(len(fits[0])):\n",
    "for i in range(7):\n",
    "\n",
    "    X=[]\n",
    "    Y=[]\n",
    "    for j in range(len(fits)):\n",
    "        fit = fits[j]\n",
    "        if i < len(fit):\n",
    "            X.append(fit[i][0])\n",
    "            Y.append(fit[i][1])\n",
    "    plt.plot(Y, X, '.-', label=str(1+2*i))\n",
    "plt.semilogy(1)\n",
    "#plt.semilogx(1)\n",
    "\n",
    "\n",
    "plt.ylim([1e13, 6e14])\n",
    "\n",
    "plt.title('SST U42 - Single Electron 30 [m] on-axis @ 500 [mA] (Preliminary)')\n",
    "plt.xlabel('Photon Energy [eV]')\n",
    "plt.ylabel('Flux [$\\gamma / mm^2 / 0.1\\%bw / s$]')\n",
    "\n",
    "plt.legend(title='Harmonics')\n",
    "\n",
    "plt.grid()\n",
    "\n",
    "plt.show()\n",
    "\n"
   ]
  },
  {
   "cell_type": "code",
   "execution_count": 17,
   "metadata": {},
   "outputs": [
    {
     "data": {
      "text/plain": [
       "[]"
      ]
     },
     "execution_count": 17,
     "metadata": {},
     "output_type": "execute_result"
    }
   ],
   "source": [
    "X"
   ]
  },
  {
   "cell_type": "code",
   "execution_count": null,
   "metadata": {},
   "outputs": [],
   "source": []
  }
 ],
 "metadata": {
  "kernelspec": {
   "display_name": "Python 3",
   "language": "python",
   "name": "python3"
  },
  "language_info": {
   "codemirror_mode": {
    "name": "ipython",
    "version": 3
   },
   "file_extension": ".py",
   "mimetype": "text/x-python",
   "name": "python",
   "nbconvert_exporter": "python",
   "pygments_lexer": "ipython3",
   "version": "3.5.2"
  }
 },
 "nbformat": 4,
 "nbformat_minor": 2
}
